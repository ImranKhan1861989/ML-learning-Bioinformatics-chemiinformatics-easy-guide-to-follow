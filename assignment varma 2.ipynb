{
 "cells": [
  {
   "cell_type": "code",
   "execution_count": null,
   "id": "86ba6c85",
   "metadata": {},
   "outputs": [],
   "source": [
    "import pandas as pd\n",
    "#load the data\n",
    "data = pd.read_csv(\"E-ENAD-46-query-results.tsv\", skiprows=3, sep=\"\\t\")\n",
    "data.head(4)\n",
    "print(data.columns)"
   ]
  },
  {
   "cell_type": "code",
   "execution_count": null,
   "id": "c905f605",
   "metadata": {},
   "outputs": [],
   "source": [
    "#load the data\n",
    "#data filter, log fold change distribution plotting for colon data, lung data, \n",
    "#convert p values to fdr <0.05 less than 0.05\n",
    "# csv files seperate colon and lung data to individual files\n",
    "# plot top ten genes both th colon an lung data log fold change\n",
    "\n",
    "import pandas as pd\n",
    "import numpy as np\n",
    "import matplotlib.pyplot as plt\n",
    "from statsmodels.stats.multitest import multipletests\n",
    "\n",
    "# Load the data\n",
    "data = pd.read_csv(\"E-ENAD-46-query-results.tsv\", skiprows=3, sep=\"\\t\")\n",
    "\n",
    "# Display the first 4 rows and column names\n",
    "print(data.head(4))\n",
    "print(data.columns)\n",
    "\n",
    "# Data rename\n",
    "data.rename(columns={\n",
    "    \"'COVID-19' vs 'normal' in 'colon' .foldChange\": \"Colon_FoldChange\",\n",
    "    \"'COVID-19' vs 'normal' in 'colon'.pValue\": \"Colon_pValue\",\n",
    "    \"'COVID-19' vs 'normal' in 'lung' .foldChange\": \"Lung_FoldChange\",\n",
    "    \"'COVID-19' vs 'normal' in 'lung'.pValue\": \"Lung_pValue\"\n",
    "}, inplace=True)\n",
    "\n",
    "# Function to check if renaming was successful\n",
    "def rename_valid(data):\n",
    "    expected_columns = ['Colon_FoldChange', 'Colon_pValue', 'Lung_FoldChange', 'Lung_pValue']\n",
    "    if all(col in data.columns for col in expected_columns):\n",
    "        print(\"Columns renamed successfully.\")\n",
    "    else:\n",
    "        print(\"Renaming failed. Check column names.\")\n",
    "\n",
    "# Call the function to check renaming\n",
    "rename_valid(data)"
   ]
  },
  {
   "cell_type": "code",
   "execution_count": null,
   "id": "dc6fa0e1",
   "metadata": {},
   "outputs": [],
   "source": [
    "print(data.columns)  # Print the columns to verify the exact column names\n",
    "\n",
    "#colon_fold_change = data['Colon_FoldChange']\n",
    "#colon_p_value = data['Colon_pValue']\n",
    "#lung_fold_change = data['Lung_FoldChange']\n",
    "#lung_p_value = data['Lung_pValue']"
   ]
  },
  {
   "cell_type": "code",
   "execution_count": null,
   "id": "f41f3b10",
   "metadata": {},
   "outputs": [],
   "source": [
    "# Filter the data for colon and lung samples\n",
    "colon_data = data[['Gene ID', 'Gene Name', \"Colon_FoldChange\", \"Colon_pValue\"]]\n",
    "lung_data = data[['Gene ID', 'Gene Name', \"Lung_FoldChange\", \"Lung_pValue\"]]"
   ]
  },
  {
   "cell_type": "code",
   "execution_count": null,
   "id": "e5a31182",
   "metadata": {},
   "outputs": [],
   "source": [
    "#load the data\n",
    "#data filter, log fold change distribution plotting for colon data, lung data, \n",
    "#convert p values to fdr <0.05 less than 0.05\n",
    "# csv files seperate colon and lung data to individual files\n",
    "# plot top ten genes both th colon an lung data log fold change\n",
    "\n",
    "import pandas as pd\n",
    "import numpy as np\n",
    "import matplotlib.pyplot as plt\n",
    "from statsmodels.stats.multitest import multipletests\n",
    "\n",
    "# Load the data\n",
    "data = pd.read_csv(\"E-ENAD-46-query-results.tsv\", skiprows=3, sep=\"\\t\")\n",
    "\n",
    "# Display the first 4 rows and column names\n",
    "print(data.head(4))\n",
    "print(data.columns)\n",
    "\n",
    "#rename \n",
    "#Data rename\n",
    "data.rename(columns={\n",
    "    \"'COVID-19' vs 'normal' in 'colon' .foldChange\": \"Colon_FoldChange\",\n",
    "    \"'COVID-19' vs 'normal' in 'colon'.pValue\": \"Colon_pValue\",\n",
    "    \"'COVID-19' vs 'normal' in 'lung' .foldChange\": \"Lung_FoldChange\",\n",
    "    \"'COVID-19' vs 'normal' in 'lung'.pValue\": \"Lung_pValue\"\n",
    "}, inplace=True)\n",
    "\n",
    "#true or valid\n",
    "# Function to check if renaming was successful\n",
    "def rename_valid(data):\n",
    "    expected_columns = ['Colon_FoldChange', 'Colon_pValue', 'Lung_FoldChange', 'Lung_pValue']\n",
    "    if all(col in data.columns for col in expected_columns):\n",
    "        print(\"Columns renamed successfully.\")\n",
    "    else:\n",
    "        print(\"Renaming failed. Check column names.\")\n",
    "\n",
    "# Plot top ten genes based on log fold change for colon data\n",
    "top_ten_colon = colon_data.nlargest(10, 'Colon_FoldChange')\n",
    "plt.barh(np.arange(10), top_ten_colon['Colon_FoldChange'], color='blue')\n",
    "plt.yticks(np.arange(10), top_ten_colon['Gene ID'])\n",
    "plt.xlabel('Colon_FoldChange')\n",
    "plt.title('Top Ten Genes based on Colon_FoldChange (Colon)')\n",
    "plt.gca().invert_yaxis()\n",
    "plt.show()\n"
   ]
  },
  {
   "cell_type": "code",
   "execution_count": null,
   "id": "5905a0ce",
   "metadata": {},
   "outputs": [],
   "source": [
    "# Display the first 4 rows and column names\n",
    "print(data.head(4))\n",
    "print(data.columns)"
   ]
  },
  {
   "cell_type": "code",
   "execution_count": null,
   "id": "573c39e8",
   "metadata": {},
   "outputs": [],
   "source": []
  },
  {
   "cell_type": "code",
   "execution_count": null,
   "id": "e40c2fa0",
   "metadata": {},
   "outputs": [],
   "source": []
  },
  {
   "cell_type": "code",
   "execution_count": null,
   "id": "f92ed31d",
   "metadata": {},
   "outputs": [],
   "source": [
    "print(lung_fold_change)"
   ]
  },
  {
   "cell_type": "code",
   "execution_count": null,
   "id": "0c6289d7",
   "metadata": {},
   "outputs": [],
   "source": [
    "data.head(4)"
   ]
  },
  {
   "cell_type": "code",
   "execution_count": null,
   "id": "52a0ae7a",
   "metadata": {},
   "outputs": [],
   "source": [
    "# csv files seperate colon and lung data to individual files\n",
    "\n",
    "\n",
    "# Filter the data for colon and lung samples\n",
    "colon_data = data[['Gene ID', 'Gene Name', \"Colon_FoldChange\", \"Colon_pValue\"]]\n",
    "lung_data = data[['Gene ID', 'Gene Name', \"Lung_FoldChange\", \"Lung_pValue\"]]\n",
    "\n",
    "# Save to individual CSV files\n",
    "colon_data.to_csv(\"colon_data.csv\", index=False)\n",
    "lung_data.to_csv(\"lung_data.csv\", index=False)"
   ]
  },
  {
   "cell_type": "code",
   "execution_count": null,
   "id": "a350f921",
   "metadata": {},
   "outputs": [],
   "source": [
    "lungdata = pd.read_csv(\"lung_data.csv\", skiprows=3, sep=\"\\t\")"
   ]
  },
  {
   "cell_type": "code",
   "execution_count": null,
   "id": "332d9aa8",
   "metadata": {},
   "outputs": [],
   "source": [
    "# Plot top ten genes based on log fold change for lung data\n",
    "top_ten_lung = lungdata.nlargest(10, 'Lung_FoldChange')\n",
    "plt.barh(np.arange(10), top_ten_lung['Lung_FoldChange'], color='red')\n",
    "plt.yticks(np.arange(10), top_ten_lung['Gene ID'])\n",
    "plt.xlabel('Lung_FoldChange')\n",
    "plt.title('Top Ten Genes based on Lung_FoldChange (Colon)')\n",
    "plt.gca().invert_yaxis()\n",
    "plt.show()"
   ]
  },
  {
   "cell_type": "code",
   "execution_count": null,
   "id": "5b9d9bad",
   "metadata": {},
   "outputs": [],
   "source": [
    "data.head(4)"
   ]
  },
  {
   "cell_type": "code",
   "execution_count": null,
   "id": "6079df79",
   "metadata": {},
   "outputs": [],
   "source": [
    "# Plot top ten genes based on log fold change for lung data\n",
    "top_ten_lung = lungdata.nlargest(10, 'Lung_FoldChange')\n",
    "plt.barh(np.arange(10), top_ten_lung['Lung_FoldChange'], color='red')\n",
    "plt.yticks(np.arange(10), top_ten_lung['Gene ID'])\n",
    "plt.xlabel('Lung_FoldChange')\n",
    "plt.title('Top Ten Genes based on Lung_FoldChange (Colon)')\n",
    "plt.gca().invert_yaxis()\n",
    "plt.show()"
   ]
  },
  {
   "cell_type": "code",
   "execution_count": null,
   "id": "b582fe3c",
   "metadata": {},
   "outputs": [],
   "source": [
    "colondata = pd.read_csv(\"colon_data.csv\", sep=\",\")"
   ]
  },
  {
   "cell_type": "code",
   "execution_count": null,
   "id": "e55e55f7",
   "metadata": {},
   "outputs": [],
   "source": [
    "colondata.head(4)"
   ]
  },
  {
   "cell_type": "code",
   "execution_count": null,
   "id": "222aa06d",
   "metadata": {},
   "outputs": [],
   "source": [
    "from statsmodels.stats.multitest import multipletests\n",
    "lungdata = pd.read_csv(\"lung_data.csv\", sep=\",\")\n",
    "# Assuming you have a DataFrame named 'data' with a column named 'Lung_pValue'\n",
    "\n",
    "# Extract p-values\n",
    "p_values = lungdata['Lung_pValue']\n",
    "\n",
    "# Perform FDR correction\n",
    "fdr_corrected_p_values = multipletests(p_values, method='fdr_bh')[1]\n",
    "\n",
    "# Identify p-values less than 0.05 after FDR correction\n",
    "significant_indices = fdr_corrected_p_values < 0.05\n",
    "significant_genes = data[significant_indices]\n",
    "\n",
    "print(\"Genes with FDR corrected p-value less than 0.05:\")\n",
    "print(significant_genes)"
   ]
  },
  {
   "cell_type": "code",
   "execution_count": null,
   "id": "c92cd213",
   "metadata": {},
   "outputs": [],
   "source": [
    "lungdata.head(-4)"
   ]
  },
  {
   "cell_type": "code",
   "execution_count": null,
   "id": "bf29dd50",
   "metadata": {},
   "outputs": [],
   "source": [
    "# Plot\n",
    "plt.figure(figsize=(8, 4))\n",
    "plt.scatter(lung_fold_change, lung_p_value, color='red')\n",
    "\n",
    "# Add labels\n",
    "for i, txt in enumerate(\"gene id\"):\n",
    "    plt.annotate(txt, (lung_fold_change[i], lung_p_value[i]))\n",
    "\n",
    "plt.xlabel('Lung Fold Change')\n",
    "plt.ylabel('Lung p-Value')\n",
    "plt.title('Lung Fold Change vs Lung p-Value')\n",
    "plt.grid(True)\n",
    "plt.show()"
   ]
  },
  {
   "cell_type": "code",
   "execution_count": null,
   "id": "aa3ac1a1",
   "metadata": {},
   "outputs": [],
   "source": [
    "import matplotlib.pyplot as plt\n",
    "\n",
    "# Assuming you have a DataFrame named 'data' with columns 'Gene ID', 'Gene Name', 'Lung_FoldChange', and 'Lung_pValue'\n",
    "\n",
    "# Extract p-values\n",
    "p_values = data['Lung_pValue']\n",
    "\n",
    "# Sort the data based on log fold change\n",
    "sorted_data = p_values.sort_values(by='Lung_FoldChange')\n",
    "\n",
    "# Select the top 10 genes\n",
    "top_10_genes = sorted_data.iloc[:10]\n",
    "\n",
    "# Plot the genes in ascending order of p-values\n",
    "plt.figure(figsize=(10, 6))\n",
    "plt.scatter(top_10_genes['Lung_FoldChange'], top_10_genes['Lung_pValue'], color='blue')\n",
    "\n",
    "# Add labels\n",
    "for i, txt in enumerate(top_10_genes['Gene ID']):\n",
    "    plt.annotate(txt, (top_10_genes['Lung_FoldChange'].iloc[i], top_10_genes['Lung_pValue'].iloc[i]))\n",
    "\n",
    "plt.xlabel('Lung_FoldChange')\n",
    "plt.ylabel('Lung_FoldChange')\n",
    "plt.title('Top 10 Genes: Lung Fold Change vs Lung p-Value (Ascending Order of p-Values)')\n",
    "plt.grid(True)\n",
    "plt.show()\n",
    "\n",
    "\n",
    "from statsmodels.stats.multitest import multipletests\n",
    "\n",
    "# Assuming you have a DataFrame named 'data' with a column named 'Lung_pValue'\n",
    "\n",
    "# Extract p-values\n",
    "p_values = data['Lung_pValue']\n",
    "\n",
    "# Perform FDR correction\n",
    "fdr_corrected_p_values = multipletests(p_values, method='fdr_bh')[1]\n",
    "\n",
    "# Identify p-values less than 0.05 after FDR correction\n",
    "significant_indices = fdr_corrected_p_values > 0.05\n",
    "significant_genes = p_values[significant_indices]\n",
    "\n",
    "print(\"Genes with FDR corrected p-value greater than 0.05:\")\n",
    "print(significant_genes)"
   ]
  },
  {
   "cell_type": "code",
   "execution_count": null,
   "id": "6990da8b",
   "metadata": {},
   "outputs": [],
   "source": []
  },
  {
   "cell_type": "code",
   "execution_count": null,
   "id": "cab60a12",
   "metadata": {
    "scrolled": true
   },
   "outputs": [],
   "source": [
    "# Assuming you have a DataFrame named 'data' with a column named 'Lung_FoldChange'\n",
    "\n",
    "# Count upregulated genes (fold change > 0)\n",
    "upregulated_count = (data['Lung_FoldChange'] > 0).sum()\n",
    "\n",
    "# Count downregulated genes (fold change < 0)\n",
    "downregulated_count = (data['Lung_FoldChange'] < 0).sum()\n",
    "\n",
    "print(\"Total count of upregulated genes:\", upregulated_count)\n",
    "print(\"Total count of downregulated genes:\", downregulated_count)\n",
    "\n",
    "# Assuming you have a DataFrame named 'data' with columns 'Gene ID', 'Gene Name', and 'Lung_FoldChange'\n",
    "\n",
    "# Filter upregulated genes (fold change > 0)\n",
    "upregulated_genes = data[data['Lung_FoldChange'] > 0]\n",
    "\n",
    "# Filter downregulated genes (fold change < 0)\n",
    "downregulated_genes = data[data['Lung_FoldChange'] < 0]\n",
    "\n",
    "# Calculate mean, standard deviation, and median for upregulated genes\n",
    "upregulated_mean = upregulated_genes['Lung_FoldChange'].mean()\n",
    "upregulated_std_dev = upregulated_genes['Lung_FoldChange'].std()\n",
    "upregulated_median = upregulated_genes['Lung_FoldChange'].median()\n",
    "\n",
    "# Calculate mean, standard deviation, and median for downregulated genes\n",
    "downregulated_mean = downregulated_genes['Lung_FoldChange'].mean()\n",
    "downregulated_std_dev = downregulated_genes['Lung_FoldChange'].std()\n",
    "downregulated_median = downregulated_genes['Lung_FoldChange'].median()\n",
    "\n",
    "# Print results\n",
    "print(\"Statistics for upregulated genes:\")\n",
    "print(\"Mean:\", upregulated_mean)\n",
    "print(\"Standard Deviation:\", upregulated_std_dev)\n",
    "print(\"Median:\", upregulated_median)\n",
    "\n",
    "print(\"\\nStatistics for downregulated genes:\")\n",
    "print(\"Mean:\", downregulated_mean)\n",
    "print(\"Standard Deviation:\", downregulated_std_dev)\n",
    "print(\"Median:\", downregulated_median)"
   ]
  },
  {
   "cell_type": "code",
   "execution_count": null,
   "id": "d3efa3e7",
   "metadata": {},
   "outputs": [],
   "source": [
    "# Assuming you have a DataFrame named 'data' with columns 'Gene ID', 'Gene Name', and 'Lung_FoldChange'\n",
    "\n",
    "# Filter upregulated genes (fold change > 0)\n",
    "upregulated_genes = data[data['Lung_FoldChange'] > 0]\n",
    "\n",
    "# Filter downregulated genes (fold change < 0)\n",
    "downregulated_genes = data[data['Lung_FoldChange'] < 0]\n",
    "\n",
    "# Calculate mean, standard deviation, and median for upregulated genes\n",
    "upregulated_mean = upregulated_genes['Lung_FoldChange'].mean()\n",
    "upregulated_std_dev = upregulated_genes['Lung_FoldChange'].std()\n",
    "upregulated_median = upregulated_genes['Lung_FoldChange'].median()\n",
    "\n",
    "# Calculate mean, standard deviation, and median for downregulated genes\n",
    "downregulated_mean = downregulated_genes['Lung_FoldChange'].mean()\n",
    "downregulated_std_dev = downregulated_genes['Lung_FoldChange'].std()\n",
    "downregulated_median = downregulated_genes['Lung_FoldChange'].median()\n",
    "\n",
    "# Print results\n",
    "print(\"Statistics for upregulated genes:\")\n",
    "print(\"Mean:\", upregulated_mean)\n",
    "print(\"Standard Deviation:\", upregulated_std_dev)\n",
    "print(\"Median:\", upregulated_median)\n",
    "\n",
    "print(\"\\nStatistics for downregulated genes:\")\n",
    "print(\"Mean:\", downregulated_mean)\n",
    "print(\"Standard Deviation:\", downregulated_std_dev)\n",
    "print(\"Median:\", downregulated_median)"
   ]
  },
  {
   "cell_type": "code",
   "execution_count": null,
   "id": "5d980b4c",
   "metadata": {},
   "outputs": [],
   "source": [
    "# Assuming you have a DataFrame named 'data' with adjusted p-values in a column named 'Adjusted_pValue'\n",
    "\n",
    "# Count the number of genes that have failed FDR correction (adjusted p-value > 0.05)\n",
    "failed_fdr_count = (data['Lung_pValue'] > 0.05).sum()\n",
    "\n",
    "# Total number of genes\n",
    "total_genes = len(data)\n",
    "\n",
    "# Calculate the percentage of genes that have failed FDR correction\n",
    "percentage_failed_fdr = (failed_fdr_count / total_genes) * 100\n",
    "\n",
    "print(\"Total percentage of genes that have failed FDR correction:\", percentage_failed_fdr)"
   ]
  },
  {
   "cell_type": "code",
   "execution_count": null,
   "id": "542d71de",
   "metadata": {},
   "outputs": [],
   "source": [
    "from sklearn.datasets import load_income.csv\n",
    "from sklearn.model_selection import train_test_split\n",
    "from sklearn.linear_model import LinearRegression\n",
    "\n",
    "# Load the Boston housing dataset\n",
    "df = load_boston()\n",
    "X = boston.data\n",
    "y = boston.target\n",
    "\n",
    "# Split the dataset into training and testing sets\n",
    "X_train, X_test, y_train, y_test = train_test_split(X, y, test_size=0.2, random_state=42)\n",
    "\n",
    "# Initialize the Linear Regression model\n",
    "model = LinearRegression()\n",
    "\n",
    "# Train the model on the training data\n",
    "model.fit(X_train, y_train)\n",
    "\n",
    "# Make predictions on the testing data\n",
    "y_pred = model.predict(X_test)\n",
    "\n",
    "# Access the coefficients of the linear regression model\n",
    "coefficients = model.coef_\n",
    "intercept = model.intercept_\n",
    "\n",
    "print(\"Coefficients:\", coefficients)\n",
    "print(\"Intercept:\", intercept)\n"
   ]
  }
 ],
 "metadata": {
  "kernelspec": {
   "display_name": "Python 3 (ipykernel)",
   "language": "python",
   "name": "python3"
  },
  "language_info": {
   "codemirror_mode": {
    "name": "ipython",
    "version": 3
   },
   "file_extension": ".py",
   "mimetype": "text/x-python",
   "name": "python",
   "nbconvert_exporter": "python",
   "pygments_lexer": "ipython3",
   "version": "3.11.7"
  }
 },
 "nbformat": 4,
 "nbformat_minor": 5
}
