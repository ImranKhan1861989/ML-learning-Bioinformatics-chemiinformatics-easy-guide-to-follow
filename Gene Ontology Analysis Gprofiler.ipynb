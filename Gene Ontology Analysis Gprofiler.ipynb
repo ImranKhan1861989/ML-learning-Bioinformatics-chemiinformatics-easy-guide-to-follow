{
 "cells": [
  {
   "cell_type": "code",
   "execution_count": null,
   "id": "cee9cf16",
   "metadata": {},
   "outputs": [],
   "source": [
    "import pandas as pd\n",
    "import matplotlib.pyplot as plt\n",
    "from goatools.base import download_ncbi_associations\n",
    "from goatools.associations import read_ncbi_gene2go\n",
    "from goatools.go_enrichment import GOEnrichmentStudy\n",
    "import urllib.request\n",
    "from io import BytesIO\n",
    "import gzip\n",
    "\n",
    "# Step 1: Load Data\n",
    "data = pd.read_csv('differentiallyexpressedgenes.csv')"
   ]
  },
  {
   "cell_type": "code",
   "execution_count": null,
   "id": "0bbe9f7b",
   "metadata": {},
   "outputs": [],
   "source": [
    "# Step 2: Filter Differentially Expressed Genes\n",
    "filtered_genes = data[(data['Colon_pValue'] < 0.05) & (data['Lung_pValue'] < 0.05)]"
   ]
  },
  {
   "cell_type": "code",
   "execution_count": null,
   "id": "67d12b66",
   "metadata": {},
   "outputs": [],
   "source": [
    "# Step 3: Gene Ontology Analysis\n",
    "# Fetch gene2go.gz file into memory\n",
    "url = \"ftp://ftp.ncbi.nlm.nih.gov/gene/DATA/gene2go.gz\"\n",
    "with urllib.request.urlopen(url) as response:\n",
    "    with gzip.open(BytesIO(response.read()), 'rt') as f:\n",
    "        gene2go = read_ncbi_gene2go(f, taxids=[10090])\n",
    "\n",
    "# Example GO analysis\n",
    "study = GOEnrichmentStudy(gene2go, geneid2gos_mouse, \n",
    "        src_filter=None, # Source filter: e.g., 'EXP', 'IDA', 'IPI', 'IMP', 'IGI', 'IEP'\n",
    "        alpha=0.05) # p-value cutoff\n",
    "study.run_study(list(filtered_genes['Gene_ID']))\n",
    "\n",
    "# Step 4: Visualize Results\n",
    "# Example: Plot top enriched GO terms\n",
    "plt.figure(figsize=(10, 6))\n",
    "go_enrichment_results = study.get_results()\n",
    "top_enriched_terms = go_enrichment_results[go_enrichment_results['depth'] == 1].nlargest(10, 'depth')\n",
    "plt.barh(top_enriched_terms['GO'], top_enriched_terms['depth'], color='skyblue')\n",
    "plt.xlabel('Enrichment Depth')\n",
    "plt.ylabel('GO Term')\n",
    "plt.title('Top Enriched GO Terms')\n",
    "plt.gca().invert_yaxis()\n",
    "plt.show()"
   ]
  }
 ],
 "metadata": {
  "kernelspec": {
   "display_name": "Python 3 (ipykernel)",
   "language": "python",
   "name": "python3"
  },
  "language_info": {
   "codemirror_mode": {
    "name": "ipython",
    "version": 3
   },
   "file_extension": ".py",
   "mimetype": "text/x-python",
   "name": "python",
   "nbconvert_exporter": "python",
   "pygments_lexer": "ipython3",
   "version": "3.11.7"
  }
 },
 "nbformat": 4,
 "nbformat_minor": 5
}
