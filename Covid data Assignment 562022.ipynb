{
 "cells": [
  {
   "cell_type": "code",
   "execution_count": 1,
   "id": "48bb4810",
   "metadata": {},
   "outputs": [],
   "source": [
    "import pandas as pd"
   ]
  },
  {
   "cell_type": "code",
   "execution_count": 14,
   "id": "82c0ee84",
   "metadata": {},
   "outputs": [],
   "source": [
    "df = pd.read_csv('coviddata.csv',skiprows=3, sep=\"\\t\")"
   ]
  },
  {
   "cell_type": "code",
   "execution_count": 15,
   "id": "69e075f2",
   "metadata": {},
   "outputs": [
    {
     "data": {
      "text/html": [
       "<div>\n",
       "<style scoped>\n",
       "    .dataframe tbody tr th:only-of-type {\n",
       "        vertical-align: middle;\n",
       "    }\n",
       "\n",
       "    .dataframe tbody tr th {\n",
       "        vertical-align: top;\n",
       "    }\n",
       "\n",
       "    .dataframe thead th {\n",
       "        text-align: right;\n",
       "    }\n",
       "</style>\n",
       "<table border=\"1\" class=\"dataframe\">\n",
       "  <thead>\n",
       "    <tr style=\"text-align: right;\">\n",
       "      <th></th>\n",
       "      <th>Gene ID</th>\n",
       "      <th>Gene Name</th>\n",
       "      <th>'COVID-19' vs 'normal' in 'colon' .foldChange</th>\n",
       "      <th>'COVID-19' vs 'normal' in 'colon'.pValue</th>\n",
       "      <th>'COVID-19' vs 'normal' in 'lung' .foldChange</th>\n",
       "      <th>'COVID-19' vs 'normal' in 'lung'.pValue</th>\n",
       "    </tr>\n",
       "  </thead>\n",
       "  <tbody>\n",
       "    <tr>\n",
       "      <th>0</th>\n",
       "      <td>ENSG00000000003</td>\n",
       "      <td>TSPAN6</td>\n",
       "      <td>0.2</td>\n",
       "      <td>0.813312</td>\n",
       "      <td>-0.4</td>\n",
       "      <td>0.670524</td>\n",
       "    </tr>\n",
       "    <tr>\n",
       "      <th>1</th>\n",
       "      <td>ENSG00000000005</td>\n",
       "      <td>TNMD</td>\n",
       "      <td>-1.9</td>\n",
       "      <td>0.014671</td>\n",
       "      <td>-0.2</td>\n",
       "      <td>0.883507</td>\n",
       "    </tr>\n",
       "    <tr>\n",
       "      <th>2</th>\n",
       "      <td>ENSG00000000419</td>\n",
       "      <td>DPM1</td>\n",
       "      <td>0.6</td>\n",
       "      <td>0.208810</td>\n",
       "      <td>0.7</td>\n",
       "      <td>0.139756</td>\n",
       "    </tr>\n",
       "  </tbody>\n",
       "</table>\n",
       "</div>"
      ],
      "text/plain": [
       "           Gene ID Gene Name  'COVID-19' vs 'normal' in 'colon' .foldChange  \\\n",
       "0  ENSG00000000003    TSPAN6                                            0.2   \n",
       "1  ENSG00000000005      TNMD                                           -1.9   \n",
       "2  ENSG00000000419      DPM1                                            0.6   \n",
       "\n",
       "   'COVID-19' vs 'normal' in 'colon'.pValue  \\\n",
       "0                                  0.813312   \n",
       "1                                  0.014671   \n",
       "2                                  0.208810   \n",
       "\n",
       "   'COVID-19' vs 'normal' in 'lung' .foldChange  \\\n",
       "0                                          -0.4   \n",
       "1                                          -0.2   \n",
       "2                                           0.7   \n",
       "\n",
       "   'COVID-19' vs 'normal' in 'lung'.pValue  \n",
       "0                                 0.670524  \n",
       "1                                 0.883507  \n",
       "2                                 0.139756  "
      ]
     },
     "execution_count": 15,
     "metadata": {},
     "output_type": "execute_result"
    }
   ],
   "source": [
    "df.head(3)"
   ]
  },
  {
   "cell_type": "code",
   "execution_count": 19,
   "id": "5dd454cb",
   "metadata": {},
   "outputs": [],
   "source": [
    "#sklearn perform 1,linear 2, classification, 3, random trees, 4, clustering 5, k prediction using elbow plots \n",
    "\n",
    "df.rename(columns={\n",
    "    \"'COVID-19' vs 'normal' in 'colon' .foldChange\": \"Colon_FoldChange\",\n",
    "    \"'COVID-19' vs 'normal' in 'colon'.pValue\": \"Colon_pValue\",\n",
    "    \"'COVID-19' vs 'normal' in 'lung' .foldChange\": \"Lung_FoldChange\",\n",
    "    \"'COVID-19' vs 'normal' in 'lung'.pValue\": \"Lung_pValue\"\n",
    "}, inplace=True)"
   ]
  },
  {
   "cell_type": "code",
   "execution_count": 20,
   "id": "a8d15d9f",
   "metadata": {},
   "outputs": [
    {
     "data": {
      "text/html": [
       "<div>\n",
       "<style scoped>\n",
       "    .dataframe tbody tr th:only-of-type {\n",
       "        vertical-align: middle;\n",
       "    }\n",
       "\n",
       "    .dataframe tbody tr th {\n",
       "        vertical-align: top;\n",
       "    }\n",
       "\n",
       "    .dataframe thead th {\n",
       "        text-align: right;\n",
       "    }\n",
       "</style>\n",
       "<table border=\"1\" class=\"dataframe\">\n",
       "  <thead>\n",
       "    <tr style=\"text-align: right;\">\n",
       "      <th></th>\n",
       "      <th>Gene ID</th>\n",
       "      <th>Gene Name</th>\n",
       "      <th>Colon_FoldChange</th>\n",
       "      <th>Colon_pValue</th>\n",
       "      <th>Lung_FoldChange</th>\n",
       "      <th>Lung_pValue</th>\n",
       "    </tr>\n",
       "  </thead>\n",
       "  <tbody>\n",
       "    <tr>\n",
       "      <th>0</th>\n",
       "      <td>ENSG00000000003</td>\n",
       "      <td>TSPAN6</td>\n",
       "      <td>0.2</td>\n",
       "      <td>0.813312</td>\n",
       "      <td>-0.4</td>\n",
       "      <td>0.670524</td>\n",
       "    </tr>\n",
       "    <tr>\n",
       "      <th>1</th>\n",
       "      <td>ENSG00000000005</td>\n",
       "      <td>TNMD</td>\n",
       "      <td>-1.9</td>\n",
       "      <td>0.014671</td>\n",
       "      <td>-0.2</td>\n",
       "      <td>0.883507</td>\n",
       "    </tr>\n",
       "    <tr>\n",
       "      <th>2</th>\n",
       "      <td>ENSG00000000419</td>\n",
       "      <td>DPM1</td>\n",
       "      <td>0.6</td>\n",
       "      <td>0.208810</td>\n",
       "      <td>0.7</td>\n",
       "      <td>0.139756</td>\n",
       "    </tr>\n",
       "  </tbody>\n",
       "</table>\n",
       "</div>"
      ],
      "text/plain": [
       "           Gene ID Gene Name  Colon_FoldChange  Colon_pValue  Lung_FoldChange  \\\n",
       "0  ENSG00000000003    TSPAN6               0.2      0.813312             -0.4   \n",
       "1  ENSG00000000005      TNMD              -1.9      0.014671             -0.2   \n",
       "2  ENSG00000000419      DPM1               0.6      0.208810              0.7   \n",
       "\n",
       "   Lung_pValue  \n",
       "0     0.670524  \n",
       "1     0.883507  \n",
       "2     0.139756  "
      ]
     },
     "execution_count": 20,
     "metadata": {},
     "output_type": "execute_result"
    }
   ],
   "source": [
    "df.head(3)"
   ]
  },
  {
   "cell_type": "code",
   "execution_count": 27,
   "id": "12ca4231",
   "metadata": {},
   "outputs": [
    {
     "name": "stdout",
     "output_type": "stream",
     "text": [
      "<function rename_valid at 0x00000223AA9B4B80>\n"
     ]
    }
   ],
   "source": [
    "def rename_valid(df):\n",
    "    expected_columns = ['Colon_FoldChange', 'Colon_pValue', 'Lung_FoldChange', 'Lung_pValue']\n",
    "    if all(col in df.columns for col in expected_columns):\n",
    "        print(\"Columns renamed successfully.\")\n",
    "    else:\n",
    "        print(\"Renaming failed. Check column names.\")\n",
    "print(rename_valid)"
   ]
  },
  {
   "cell_type": "code",
   "execution_count": 28,
   "id": "d6f551a6",
   "metadata": {},
   "outputs": [
    {
     "data": {
      "text/html": [
       "<div>\n",
       "<style scoped>\n",
       "    .dataframe tbody tr th:only-of-type {\n",
       "        vertical-align: middle;\n",
       "    }\n",
       "\n",
       "    .dataframe tbody tr th {\n",
       "        vertical-align: top;\n",
       "    }\n",
       "\n",
       "    .dataframe thead th {\n",
       "        text-align: right;\n",
       "    }\n",
       "</style>\n",
       "<table border=\"1\" class=\"dataframe\">\n",
       "  <thead>\n",
       "    <tr style=\"text-align: right;\">\n",
       "      <th></th>\n",
       "      <th>Gene ID</th>\n",
       "      <th>Gene Name</th>\n",
       "      <th>Colon_FoldChange</th>\n",
       "      <th>Colon_pValue</th>\n",
       "      <th>Lung_FoldChange</th>\n",
       "      <th>Lung_pValue</th>\n",
       "    </tr>\n",
       "  </thead>\n",
       "  <tbody>\n",
       "    <tr>\n",
       "      <th>0</th>\n",
       "      <td>ENSG00000000003</td>\n",
       "      <td>TSPAN6</td>\n",
       "      <td>0.2</td>\n",
       "      <td>0.813312</td>\n",
       "      <td>-0.4</td>\n",
       "      <td>0.670524</td>\n",
       "    </tr>\n",
       "    <tr>\n",
       "      <th>1</th>\n",
       "      <td>ENSG00000000005</td>\n",
       "      <td>TNMD</td>\n",
       "      <td>-1.9</td>\n",
       "      <td>0.014671</td>\n",
       "      <td>-0.2</td>\n",
       "      <td>0.883507</td>\n",
       "    </tr>\n",
       "    <tr>\n",
       "      <th>2</th>\n",
       "      <td>ENSG00000000419</td>\n",
       "      <td>DPM1</td>\n",
       "      <td>0.6</td>\n",
       "      <td>0.208810</td>\n",
       "      <td>0.7</td>\n",
       "      <td>0.139756</td>\n",
       "    </tr>\n",
       "  </tbody>\n",
       "</table>\n",
       "</div>"
      ],
      "text/plain": [
       "           Gene ID Gene Name  Colon_FoldChange  Colon_pValue  Lung_FoldChange  \\\n",
       "0  ENSG00000000003    TSPAN6               0.2      0.813312             -0.4   \n",
       "1  ENSG00000000005      TNMD              -1.9      0.014671             -0.2   \n",
       "2  ENSG00000000419      DPM1               0.6      0.208810              0.7   \n",
       "\n",
       "   Lung_pValue  \n",
       "0     0.670524  \n",
       "1     0.883507  \n",
       "2     0.139756  "
      ]
     },
     "execution_count": 28,
     "metadata": {},
     "output_type": "execute_result"
    }
   ],
   "source": [
    "df.head(3)"
   ]
  },
  {
   "cell_type": "code",
   "execution_count": 54,
   "id": "eac2f35f",
   "metadata": {},
   "outputs": [],
   "source": [
    "# Filter the data for colon and lung samples\n",
    "colon_data = df[['Gene ID', 'Gene Name', \"Colon_FoldChange\", \"Colon_pValue\"]]\n",
    "lung_data = df[['Gene ID', 'Gene Name', \"Lung_FoldChange\", \"Lung_pValue\"]]\n",
    "\n",
    "# Save to individual CSV files\n",
    "colon_data.to_csv(\"colon_data.csv\", index=False)\n",
    "lung_data.to_csv(\"lung_data.csv\", index=False)"
   ]
  },
  {
   "cell_type": "code",
   "execution_count": 55,
   "id": "109903ae",
   "metadata": {},
   "outputs": [
    {
     "data": {
      "text/html": [
       "<div>\n",
       "<style scoped>\n",
       "    .dataframe tbody tr th:only-of-type {\n",
       "        vertical-align: middle;\n",
       "    }\n",
       "\n",
       "    .dataframe tbody tr th {\n",
       "        vertical-align: top;\n",
       "    }\n",
       "\n",
       "    .dataframe thead th {\n",
       "        text-align: right;\n",
       "    }\n",
       "</style>\n",
       "<table border=\"1\" class=\"dataframe\">\n",
       "  <thead>\n",
       "    <tr style=\"text-align: right;\">\n",
       "      <th></th>\n",
       "      <th>Gene ID,Gene Name,Lung_FoldChange,Lung_pValue</th>\n",
       "    </tr>\n",
       "  </thead>\n",
       "  <tbody>\n",
       "    <tr>\n",
       "      <th>0</th>\n",
       "      <td>ENSG00000000003,TSPAN6,-0.4,0.670523823787515</td>\n",
       "    </tr>\n",
       "    <tr>\n",
       "      <th>1</th>\n",
       "      <td>ENSG00000000005,TNMD,-0.2,0.883506955372642</td>\n",
       "    </tr>\n",
       "    <tr>\n",
       "      <th>2</th>\n",
       "      <td>ENSG00000000419,DPM1,0.7,0.139755999676328</td>\n",
       "    </tr>\n",
       "    <tr>\n",
       "      <th>3</th>\n",
       "      <td>ENSG00000000457,SCYL3,-0.1,0.872393309099661</td>\n",
       "    </tr>\n",
       "    <tr>\n",
       "      <th>4</th>\n",
       "      <td>ENSG00000000460,C1orf112,-0.9,0.0746635129872982</td>\n",
       "    </tr>\n",
       "  </tbody>\n",
       "</table>\n",
       "</div>"
      ],
      "text/plain": [
       "      Gene ID,Gene Name,Lung_FoldChange,Lung_pValue\n",
       "0     ENSG00000000003,TSPAN6,-0.4,0.670523823787515\n",
       "1       ENSG00000000005,TNMD,-0.2,0.883506955372642\n",
       "2        ENSG00000000419,DPM1,0.7,0.139755999676328\n",
       "3      ENSG00000000457,SCYL3,-0.1,0.872393309099661\n",
       "4  ENSG00000000460,C1orf112,-0.9,0.0746635129872982"
      ]
     },
     "execution_count": 55,
     "metadata": {},
     "output_type": "execute_result"
    }
   ],
   "source": [
    "lung_df.head()"
   ]
  },
  {
   "cell_type": "code",
   "execution_count": 53,
   "id": "d63a7eda",
   "metadata": {},
   "outputs": [
    {
     "data": {
      "text/html": [
       "<div>\n",
       "<style scoped>\n",
       "    .dataframe tbody tr th:only-of-type {\n",
       "        vertical-align: middle;\n",
       "    }\n",
       "\n",
       "    .dataframe tbody tr th {\n",
       "        vertical-align: top;\n",
       "    }\n",
       "\n",
       "    .dataframe thead th {\n",
       "        text-align: right;\n",
       "    }\n",
       "</style>\n",
       "<table border=\"1\" class=\"dataframe\">\n",
       "  <thead>\n",
       "    <tr style=\"text-align: right;\">\n",
       "      <th></th>\n",
       "      <th>Gene ID,Gene Name,Colon_FoldChange,Colon_pValue</th>\n",
       "    </tr>\n",
       "  </thead>\n",
       "  <tbody>\n",
       "    <tr>\n",
       "      <th>0</th>\n",
       "      <td>ENSG00000000003,TSPAN6,0.2,0.813312168267391</td>\n",
       "    </tr>\n",
       "    <tr>\n",
       "      <th>1</th>\n",
       "      <td>ENSG00000000005,TNMD,-1.9,0.0146707693326173</td>\n",
       "    </tr>\n",
       "    <tr>\n",
       "      <th>2</th>\n",
       "      <td>ENSG00000000419,DPM1,0.6,0.208809855217115</td>\n",
       "    </tr>\n",
       "    <tr>\n",
       "      <th>3</th>\n",
       "      <td>ENSG00000000457,SCYL3,0.4,0.44877675666895</td>\n",
       "    </tr>\n",
       "    <tr>\n",
       "      <th>4</th>\n",
       "      <td>ENSG00000000460,C1orf112,-1.0,0.00014191038368...</td>\n",
       "    </tr>\n",
       "  </tbody>\n",
       "</table>\n",
       "</div>"
      ],
      "text/plain": [
       "     Gene ID,Gene Name,Colon_FoldChange,Colon_pValue\n",
       "0       ENSG00000000003,TSPAN6,0.2,0.813312168267391\n",
       "1       ENSG00000000005,TNMD,-1.9,0.0146707693326173\n",
       "2         ENSG00000000419,DPM1,0.6,0.208809855217115\n",
       "3         ENSG00000000457,SCYL3,0.4,0.44877675666895\n",
       "4  ENSG00000000460,C1orf112,-1.0,0.00014191038368..."
      ]
     },
     "execution_count": 53,
     "metadata": {},
     "output_type": "execute_result"
    }
   ],
   "source": [
    "colon_df.head()"
   ]
  },
  {
   "cell_type": "code",
   "execution_count": 64,
   "id": "3e571231",
   "metadata": {},
   "outputs": [
    {
     "data": {
      "text/html": [
       "<div>\n",
       "<style scoped>\n",
       "    .dataframe tbody tr th:only-of-type {\n",
       "        vertical-align: middle;\n",
       "    }\n",
       "\n",
       "    .dataframe tbody tr th {\n",
       "        vertical-align: top;\n",
       "    }\n",
       "\n",
       "    .dataframe thead th {\n",
       "        text-align: right;\n",
       "    }\n",
       "</style>\n",
       "<table border=\"1\" class=\"dataframe\">\n",
       "  <thead>\n",
       "    <tr style=\"text-align: right;\">\n",
       "      <th></th>\n",
       "      <th>Gene ID</th>\n",
       "      <th>Gene Name</th>\n",
       "      <th>Colon_FoldChange</th>\n",
       "      <th>Colon_pValue</th>\n",
       "    </tr>\n",
       "  </thead>\n",
       "  <tbody>\n",
       "    <tr>\n",
       "      <th>0</th>\n",
       "      <td>ENSG00000000003</td>\n",
       "      <td>TSPAN6</td>\n",
       "      <td>0.2</td>\n",
       "      <td>0.813312</td>\n",
       "    </tr>\n",
       "    <tr>\n",
       "      <th>1</th>\n",
       "      <td>ENSG00000000005</td>\n",
       "      <td>TNMD</td>\n",
       "      <td>-1.9</td>\n",
       "      <td>0.014671</td>\n",
       "    </tr>\n",
       "    <tr>\n",
       "      <th>2</th>\n",
       "      <td>ENSG00000000419</td>\n",
       "      <td>DPM1</td>\n",
       "      <td>0.6</td>\n",
       "      <td>0.208810</td>\n",
       "    </tr>\n",
       "    <tr>\n",
       "      <th>3</th>\n",
       "      <td>ENSG00000000457</td>\n",
       "      <td>SCYL3</td>\n",
       "      <td>0.4</td>\n",
       "      <td>0.448777</td>\n",
       "    </tr>\n",
       "    <tr>\n",
       "      <th>4</th>\n",
       "      <td>ENSG00000000460</td>\n",
       "      <td>C1orf112</td>\n",
       "      <td>-1.0</td>\n",
       "      <td>0.000142</td>\n",
       "    </tr>\n",
       "  </tbody>\n",
       "</table>\n",
       "</div>"
      ],
      "text/plain": [
       "           Gene ID Gene Name  Colon_FoldChange  Colon_pValue\n",
       "0  ENSG00000000003    TSPAN6               0.2      0.813312\n",
       "1  ENSG00000000005      TNMD              -1.9      0.014671\n",
       "2  ENSG00000000419      DPM1               0.6      0.208810\n",
       "3  ENSG00000000457     SCYL3               0.4      0.448777\n",
       "4  ENSG00000000460  C1orf112              -1.0      0.000142"
      ]
     },
     "execution_count": 64,
     "metadata": {},
     "output_type": "execute_result"
    }
   ],
   "source": [
    "import pandas as pd\n",
    "\n",
    "# Read the files\n",
    "colon_df = pd.read_csv(\"colon_data.csv\", sep=\",\")\n",
    "lung_df = pd.read_csv(\"lung_data.csv\", sep=\",\")\n",
    "\n",
    "colon_df.head()"
   ]
  },
  {
   "cell_type": "code",
   "execution_count": 63,
   "id": "5dcce7ef",
   "metadata": {},
   "outputs": [
    {
     "data": {
      "text/html": [
       "<div>\n",
       "<style scoped>\n",
       "    .dataframe tbody tr th:only-of-type {\n",
       "        vertical-align: middle;\n",
       "    }\n",
       "\n",
       "    .dataframe tbody tr th {\n",
       "        vertical-align: top;\n",
       "    }\n",
       "\n",
       "    .dataframe thead th {\n",
       "        text-align: right;\n",
       "    }\n",
       "</style>\n",
       "<table border=\"1\" class=\"dataframe\">\n",
       "  <thead>\n",
       "    <tr style=\"text-align: right;\">\n",
       "      <th></th>\n",
       "      <th>Gene ID</th>\n",
       "      <th>Gene Name</th>\n",
       "      <th>Lung_FoldChange</th>\n",
       "      <th>Lung_pValue</th>\n",
       "    </tr>\n",
       "  </thead>\n",
       "  <tbody>\n",
       "    <tr>\n",
       "      <th>0</th>\n",
       "      <td>ENSG00000000003</td>\n",
       "      <td>TSPAN6</td>\n",
       "      <td>-0.4</td>\n",
       "      <td>0.670524</td>\n",
       "    </tr>\n",
       "    <tr>\n",
       "      <th>1</th>\n",
       "      <td>ENSG00000000005</td>\n",
       "      <td>TNMD</td>\n",
       "      <td>-0.2</td>\n",
       "      <td>0.883507</td>\n",
       "    </tr>\n",
       "    <tr>\n",
       "      <th>2</th>\n",
       "      <td>ENSG00000000419</td>\n",
       "      <td>DPM1</td>\n",
       "      <td>0.7</td>\n",
       "      <td>0.139756</td>\n",
       "    </tr>\n",
       "    <tr>\n",
       "      <th>3</th>\n",
       "      <td>ENSG00000000457</td>\n",
       "      <td>SCYL3</td>\n",
       "      <td>-0.1</td>\n",
       "      <td>0.872393</td>\n",
       "    </tr>\n",
       "    <tr>\n",
       "      <th>4</th>\n",
       "      <td>ENSG00000000460</td>\n",
       "      <td>C1orf112</td>\n",
       "      <td>-0.9</td>\n",
       "      <td>0.074664</td>\n",
       "    </tr>\n",
       "  </tbody>\n",
       "</table>\n",
       "</div>"
      ],
      "text/plain": [
       "           Gene ID Gene Name  Lung_FoldChange  Lung_pValue\n",
       "0  ENSG00000000003    TSPAN6             -0.4     0.670524\n",
       "1  ENSG00000000005      TNMD             -0.2     0.883507\n",
       "2  ENSG00000000419      DPM1              0.7     0.139756\n",
       "3  ENSG00000000457     SCYL3             -0.1     0.872393\n",
       "4  ENSG00000000460  C1orf112             -0.9     0.074664"
      ]
     },
     "execution_count": 63,
     "metadata": {},
     "output_type": "execute_result"
    }
   ],
   "source": [
    "lung_df.head()"
   ]
  },
  {
   "cell_type": "code",
   "execution_count": 65,
   "id": "e06c8196",
   "metadata": {},
   "outputs": [],
   "source": [
    "# Merge the DataFrames based on a common column\n",
    "merged_df = pd.merge(colon_df, lung_df, on=\"Gene ID\", how=\"outer\")"
   ]
  },
  {
   "cell_type": "code",
   "execution_count": 66,
   "id": "319bff44",
   "metadata": {},
   "outputs": [
    {
     "name": "stderr",
     "output_type": "stream",
     "text": [
      "C:\\Users\\imrkm\\AppData\\Local\\Temp\\ipykernel_35780\\4235904892.py:3: FutureWarning: Setting an item of incompatible dtype is deprecated and will raise in a future error of pandas. Value 'NA' has dtype incompatible with float64, please explicitly cast to a compatible dtype first.\n",
      "  merged_df.fillna(\"NA\", inplace=True)\n"
     ]
    }
   ],
   "source": [
    "# Handle missing values (if needed)\n",
    "# For example, filling missing values with a default value\n",
    "merged_df.fillna(\"NA\", inplace=True)"
   ]
  },
  {
   "cell_type": "code",
   "execution_count": 67,
   "id": "ad16699b",
   "metadata": {},
   "outputs": [],
   "source": [
    "# Concatenate columns while renaming them if necessary\n",
    "# For example, concatenating fold change and p-value columns from different tissues\n",
    "merged_df[\"Colon_FoldChange\"] = merged_df[\"Colon_FoldChange\"].astype(str) + \"_\" + merged_df[\"Colon_pValue\"].astype(str)\n",
    "merged_df[\"Lung_FoldChange\"] = merged_df[\"Lung_FoldChange\"].astype(str) + \"_\" + merged_df[\"Lung_pValue\"].astype(str)\n",
    "\n",
    "# Write to a new file\n",
    "merged_df.to_csv(\"merged_genes.csv\", index=False, sep=\"\\t\")"
   ]
  },
  {
   "cell_type": "code",
   "execution_count": null,
   "id": "2888d3f6",
   "metadata": {},
   "outputs": [],
   "source": []
  }
 ],
 "metadata": {
  "kernelspec": {
   "display_name": "Python 3 (ipykernel)",
   "language": "python",
   "name": "python3"
  },
  "language_info": {
   "codemirror_mode": {
    "name": "ipython",
    "version": 3
   },
   "file_extension": ".py",
   "mimetype": "text/x-python",
   "name": "python",
   "nbconvert_exporter": "python",
   "pygments_lexer": "ipython3",
   "version": "3.11.7"
  }
 },
 "nbformat": 4,
 "nbformat_minor": 5
}
